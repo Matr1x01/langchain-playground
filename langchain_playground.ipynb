{
 "cells": [
  {
   "cell_type": "code",
   "metadata": {
    "jupyter": {
     "is_executing": true
    }
   },
   "source": [
    "from langchain_openai import ChatOpenAI\n",
    "\n",
    "llm = ChatOpenAI(api_key=api_key)"
   ],
   "outputs": [],
   "execution_count": null
  },
  {
   "cell_type": "code",
   "execution_count": 10,
   "metadata": {},
   "outputs": [
    {
     "data": {
      "text/plain": [
       "AIMessage(content='Langsmith can help with testing by providing automated testing tools and frameworks that can be used to create and run tests more efficiently. It can also help with test case generation, test data management, and test result analysis. Additionally, Langsmith can integrate with other testing tools and systems to streamline the testing process and improve overall testing coverage and accuracy.', response_metadata={'token_usage': {'completion_tokens': 68, 'prompt_tokens': 15, 'total_tokens': 83}, 'model_name': 'gpt-3.5-turbo-0125', 'system_fingerprint': None, 'finish_reason': 'stop', 'logprobs': None}, id='run-ac3ebdda-3916-4e1e-8a5b-0291da528f64-0', usage_metadata={'input_tokens': 15, 'output_tokens': 68, 'total_tokens': 83})"
      ]
     },
     "execution_count": 10,
     "metadata": {},
     "output_type": "execute_result"
    }
   ],
   "source": [
    "# this invloke will hit the llm with just this text and return the response from the model\n",
    "llm.invoke(\"how can langsmith help with testing?\")"
   ]
  },
  {
   "cell_type": "code",
   "execution_count": 11,
   "metadata": {},
   "outputs": [],
   "source": [
    "# this uses the templete to format the input before sending it to the model\n",
    "from langchain_core.prompts import ChatPromptTemplate\n",
    "prompt = ChatPromptTemplate.from_messages([\n",
    "    (\"system\", \"You are a world class technical documentation writer.\"),\n",
    "    (\"user\", \"{input}\")\n",
    "])"
   ]
  },
  {
   "cell_type": "code",
   "execution_count": 5,
   "metadata": {},
   "outputs": [],
   "source": [
    "# this is just the prompt and the llm\n",
    "chain = prompt | llm"
   ]
  },
  {
   "cell_type": "code",
   "execution_count": 6,
   "metadata": {},
   "outputs": [
    {
     "data": {
      "text/plain": [
       "AIMessage(content=\"Langsmith can help with testing in various ways, including:\\n\\n1. Automated Testing: Langsmith can generate test cases, scripts, and data to automate testing processes. This can help improve the efficiency and accuracy of testing activities.\\n\\n2. Test Coverage: Langsmith can analyze code to identify areas that are not covered by tests. This can help testers ensure comprehensive test coverage and identify gaps in testing.\\n\\n3. Test Data Generation: Langsmith can generate realistic and diverse test data to simulate different scenarios and edge cases. This can help testers uncover potential issues that may not be apparent with limited test data.\\n\\n4. Performance Testing: Langsmith can help simulate load and stress conditions to test the performance of applications. This can help identify bottlenecks and optimize the performance of software systems.\\n\\n5. Regression Testing: Langsmith can assist in automating regression tests to ensure that new code changes do not introduce any unintended side effects or bugs.\\n\\nBy leveraging Langsmith's capabilities in these areas, testers can streamline testing processes, improve test coverage, and enhance the quality of software products.\", response_metadata={'token_usage': {'completion_tokens': 213, 'prompt_tokens': 28, 'total_tokens': 241}, 'model_name': 'gpt-3.5-turbo-0125', 'system_fingerprint': None, 'finish_reason': 'stop', 'logprobs': None}, id='run-c50aba30-58e7-4b2b-b0a4-f7db39e664d2-0', usage_metadata={'input_tokens': 28, 'output_tokens': 213, 'total_tokens': 241})"
      ]
     },
     "execution_count": 6,
     "metadata": {},
     "output_type": "execute_result"
    }
   ],
   "source": [
    "# this out put is diffrent from the above because the prompt is used to format the input\n",
    "chain.invoke({\"input\": \"how can langsmith help with testing?\"})"
   ]
  },
  {
   "cell_type": "code",
   "execution_count": 7,
   "metadata": {},
   "outputs": [],
   "source": [
    "# this is a out put parser that will be used to parse the output from the model\n",
    "from langchain_core.output_parsers import StrOutputParser\n",
    "\n",
    "output_parser = StrOutputParser()"
   ]
  },
  {
   "cell_type": "code",
   "execution_count": 12,
   "metadata": {},
   "outputs": [],
   "source": [
    "# this is the full chain with the prompt, llm and output parser\n",
    "chain = prompt | llm | output_parser"
   ]
  },
  {
   "cell_type": "code",
   "execution_count": 9,
   "metadata": {},
   "outputs": [
    {
     "data": {
      "text/plain": [
       "'Langsmith can significantly help with testing by providing automated language testing capabilities. It can help you test various aspects of your software applications related to language, such as:\\n\\n1. **Localization Testing**: Langsmith can be used to automate the testing of localized versions of your software to ensure that the language translations are accurate and displayed correctly in the user interface.\\n\\n2. **Language Compatibility Testing**: Langsmith can help you test the compatibility of your software with different languages, character sets, and encoding formats to ensure that it functions correctly regardless of the language used.\\n\\n3. **Language-specific Functionality Testing**: If your software includes language-specific features or functionality, Langsmith can assist in automating the testing of these features to ensure they work as expected for different languages.\\n\\n4. **Language Parsing and Processing Testing**: Langsmith can help test the parsing and processing of language-specific data formats, such as date formats, number formats, and text encoding, to ensure that your software handles these correctly.\\n\\n5. **Error Handling and Validation Testing**: Langsmith can be used to automate testing scenarios that involve language-related errors, such as invalid language inputs, missing translations, or incorrect language formatting, to ensure robust error handling and validation.\\n\\nOverall, Langsmith can streamline the language testing process, improve test coverage, and help identify language-related issues early in the development cycle, saving time and effort in manual testing.'"
      ]
     },
     "execution_count": 9,
     "metadata": {},
     "output_type": "execute_result"
    }
   ],
   "source": [
    "# this out put is diffrent from the above because the prompt is used to format the input and the output parser is used to parse the output\n",
    "chain.invoke({\"input\": \"how can langsmith help with testing?\"})"
   ]
  },
  {
   "cell_type": "code",
   "execution_count": 13,
   "metadata": {},
   "outputs": [],
   "source": [
    "# this is the embeddings model. embeddings are used to convert text to vectors that can be used in machine learning models\n",
    "from langchain_openai import OpenAIEmbeddings\n",
    "\n",
    "embeddings = OpenAIEmbeddings(api_key=api_key)"
   ]
  },
  {
   "cell_type": "code",
   "execution_count": 15,
   "metadata": {},
   "outputs": [
    {
     "ename": "ModuleNotFoundError",
     "evalue": "Module langchain_community.document_loaders not found. Please install langchain-community to access this module. You can install it using `pip install -U langchain-community`",
     "output_type": "error",
     "traceback": [
      "\u001B[0;31m---------------------------------------------------------------------------\u001B[0m",
      "\u001B[0;31mModuleNotFoundError\u001B[0m                       Traceback (most recent call last)",
      "File \u001B[0;32m~/opt/anaconda3/envs/langchain/lib/python3.12/site-packages/langchain/_api/module_import.py:69\u001B[0m, in \u001B[0;36mcreate_importer.<locals>.import_by_name\u001B[0;34m(name)\u001B[0m\n\u001B[1;32m     68\u001B[0m \u001B[38;5;28;01mtry\u001B[39;00m:\n\u001B[0;32m---> 69\u001B[0m     module \u001B[38;5;241m=\u001B[39m importlib\u001B[38;5;241m.\u001B[39mimport_module(new_module)\n\u001B[1;32m     70\u001B[0m \u001B[38;5;28;01mexcept\u001B[39;00m \u001B[38;5;167;01mModuleNotFoundError\u001B[39;00m \u001B[38;5;28;01mas\u001B[39;00m e:\n",
      "File \u001B[0;32m~/opt/anaconda3/envs/langchain/lib/python3.12/importlib/__init__.py:90\u001B[0m, in \u001B[0;36mimport_module\u001B[0;34m(name, package)\u001B[0m\n\u001B[1;32m     89\u001B[0m         level \u001B[38;5;241m+\u001B[39m\u001B[38;5;241m=\u001B[39m \u001B[38;5;241m1\u001B[39m\n\u001B[0;32m---> 90\u001B[0m \u001B[38;5;28;01mreturn\u001B[39;00m _bootstrap\u001B[38;5;241m.\u001B[39m_gcd_import(name[level:], package, level)\n",
      "File \u001B[0;32m<frozen importlib._bootstrap>:1387\u001B[0m, in \u001B[0;36m_gcd_import\u001B[0;34m(name, package, level)\u001B[0m\n",
      "File \u001B[0;32m<frozen importlib._bootstrap>:1360\u001B[0m, in \u001B[0;36m_find_and_load\u001B[0;34m(name, import_)\u001B[0m\n",
      "File \u001B[0;32m<frozen importlib._bootstrap>:1310\u001B[0m, in \u001B[0;36m_find_and_load_unlocked\u001B[0;34m(name, import_)\u001B[0m\n",
      "File \u001B[0;32m<frozen importlib._bootstrap>:488\u001B[0m, in \u001B[0;36m_call_with_frames_removed\u001B[0;34m(f, *args, **kwds)\u001B[0m\n",
      "File \u001B[0;32m<frozen importlib._bootstrap>:1387\u001B[0m, in \u001B[0;36m_gcd_import\u001B[0;34m(name, package, level)\u001B[0m\n",
      "File \u001B[0;32m<frozen importlib._bootstrap>:1360\u001B[0m, in \u001B[0;36m_find_and_load\u001B[0;34m(name, import_)\u001B[0m\n",
      "File \u001B[0;32m<frozen importlib._bootstrap>:1324\u001B[0m, in \u001B[0;36m_find_and_load_unlocked\u001B[0;34m(name, import_)\u001B[0m\n",
      "\u001B[0;31mModuleNotFoundError\u001B[0m: No module named 'langchain_community'",
      "\nThe above exception was the direct cause of the following exception:\n",
      "\u001B[0;31mModuleNotFoundError\u001B[0m                       Traceback (most recent call last)",
      "Cell \u001B[0;32mIn[15], line 1\u001B[0m\n\u001B[0;32m----> 1\u001B[0m \u001B[38;5;28;01mfrom\u001B[39;00m \u001B[38;5;21;01mlangchain\u001B[39;00m\u001B[38;5;21;01m.\u001B[39;00m\u001B[38;5;21;01mdocument_loaders\u001B[39;00m \u001B[38;5;28;01mimport\u001B[39;00m WebBaseLoader\n\u001B[1;32m      2\u001B[0m loader \u001B[38;5;241m=\u001B[39m WebBaseLoader(\u001B[38;5;124m\"\u001B[39m\u001B[38;5;124mhttps://docs.smith.langchain.com/user_guide\u001B[39m\u001B[38;5;124m\"\u001B[39m)\n\u001B[1;32m      4\u001B[0m docs \u001B[38;5;241m=\u001B[39m loader\u001B[38;5;241m.\u001B[39mload()\n",
      "File \u001B[0;32m~/opt/anaconda3/envs/langchain/lib/python3.12/site-packages/langchain/document_loaders/__init__.py:379\u001B[0m, in \u001B[0;36m__getattr__\u001B[0;34m(name)\u001B[0m\n\u001B[1;32m    377\u001B[0m \u001B[38;5;28;01mdef\u001B[39;00m \u001B[38;5;21m__getattr__\u001B[39m(name: \u001B[38;5;28mstr\u001B[39m) \u001B[38;5;241m-\u001B[39m\u001B[38;5;241m>\u001B[39m Any:\n\u001B[1;32m    378\u001B[0m \u001B[38;5;250m    \u001B[39m\u001B[38;5;124;03m\"\"\"Look up attributes dynamically.\"\"\"\u001B[39;00m\n\u001B[0;32m--> 379\u001B[0m     \u001B[38;5;28;01mreturn\u001B[39;00m _import_attribute(name)\n",
      "File \u001B[0;32m~/opt/anaconda3/envs/langchain/lib/python3.12/site-packages/langchain/_api/module_import.py:72\u001B[0m, in \u001B[0;36mcreate_importer.<locals>.import_by_name\u001B[0;34m(name)\u001B[0m\n\u001B[1;32m     70\u001B[0m \u001B[38;5;28;01mexcept\u001B[39;00m \u001B[38;5;167;01mModuleNotFoundError\u001B[39;00m \u001B[38;5;28;01mas\u001B[39;00m e:\n\u001B[1;32m     71\u001B[0m     \u001B[38;5;28;01mif\u001B[39;00m new_module\u001B[38;5;241m.\u001B[39mstartswith(\u001B[38;5;124m\"\u001B[39m\u001B[38;5;124mlangchain_community\u001B[39m\u001B[38;5;124m\"\u001B[39m):\n\u001B[0;32m---> 72\u001B[0m         \u001B[38;5;28;01mraise\u001B[39;00m \u001B[38;5;167;01mModuleNotFoundError\u001B[39;00m(\n\u001B[1;32m     73\u001B[0m             \u001B[38;5;124mf\u001B[39m\u001B[38;5;124m\"\u001B[39m\u001B[38;5;124mModule \u001B[39m\u001B[38;5;132;01m{\u001B[39;00mnew_module\u001B[38;5;132;01m}\u001B[39;00m\u001B[38;5;124m not found. \u001B[39m\u001B[38;5;124m\"\u001B[39m\n\u001B[1;32m     74\u001B[0m             \u001B[38;5;124m\"\u001B[39m\u001B[38;5;124mPlease install langchain-community to access this module. \u001B[39m\u001B[38;5;124m\"\u001B[39m\n\u001B[1;32m     75\u001B[0m             \u001B[38;5;124m\"\u001B[39m\u001B[38;5;124mYou can install it using `pip install -U langchain-community`\u001B[39m\u001B[38;5;124m\"\u001B[39m\n\u001B[1;32m     76\u001B[0m         ) \u001B[38;5;28;01mfrom\u001B[39;00m \u001B[38;5;21;01me\u001B[39;00m\n\u001B[1;32m     77\u001B[0m     \u001B[38;5;28;01mraise\u001B[39;00m\n\u001B[1;32m     79\u001B[0m \u001B[38;5;28;01mtry\u001B[39;00m:\n",
      "\u001B[0;31mModuleNotFoundError\u001B[0m: Module langchain_community.document_loaders not found. Please install langchain-community to access this module. You can install it using `pip install -U langchain-community`"
     ]
    }
   ],
   "source": [
    "from langchain.document_loaders import WebBaseLoader\n",
    "loader = WebBaseLoader(\"https://docs.smith.langchain.com/user_guide\")\n",
    "\n",
    "docs = loader.load()"
   ]
  },
  {
   "cell_type": "code",
   "execution_count": null,
   "metadata": {},
   "outputs": [],
   "source": []
  }
 ],
 "metadata": {
  "kernelspec": {
   "display_name": "Python 3",
   "language": "python",
   "name": "python3"
  },
  "language_info": {
   "codemirror_mode": {
    "name": "ipython",
    "version": 3
   },
   "file_extension": ".py",
   "mimetype": "text/x-python",
   "name": "python",
   "nbconvert_exporter": "python",
   "pygments_lexer": "ipython3",
   "version": "3.12.4"
  }
 },
 "nbformat": 4,
 "nbformat_minor": 2
}
